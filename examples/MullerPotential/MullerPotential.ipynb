{
 "cells": [
  {
   "cell_type": "code",
   "execution_count": 10,
   "metadata": {},
   "outputs": [],
   "source": [
    "import numpy as np\n",
    "import torch\n",
    "torch.set_default_dtype(torch.double)\n",
    "import matplotlib.pyplot as plt\n",
    "from matplotlib import cm"
   ]
  },
  {
   "cell_type": "markdown",
   "metadata": {},
   "source": [
    "The Müller potential is defined as\n",
    "\n",
    "\\begin{equation*}\n",
    "U(x, y; \\alpha) = \\alpha \\cdot \\sum_{i=1}^{4}{A_i \\cdot \\exp( \\left[ a_i \\cdot (x-x^0_i)^2 + b_i \\cdot (x-x^0_i)(y-y^0_i) + c_i \\cdot (y-y^0_i)^2 \\right] )}\n",
    "\\end{equation*}\n",
    "\n",
    "where $(A_1, A_2, A_3, A_4)$ = (-200, -100, -170, 15), $(a_1, a_2, a_3, a_4)$ = (-1, -1, -6.5, 0.7), $(b_1, b_2, b_3, b_4)$ = (0, 0, 11, 0.6),$(c_1, c_2, c_3, c_4)$ = (-10, -10, -6.5, 0.7), $(x^0_1, x^0_2, x^0_3, x^0_4)$ =  (1, 0, -0.5, -1), and $(y^0_1, y^0_2, y^0_3, y^0_4)$ = (0, 0.5, 1.5, 1).\n",
    "\n",
    "$\\alpha$ is a parameter that control the rugedness of the potential. In this tutorial, we will set it to 0.05.\n"
   ]
  },
  {
   "cell_type": "code",
   "execution_count": 15,
   "metadata": {},
   "outputs": [],
   "source": [
    "def compute_Muller_potential(x, alpha):\n",
    "    A = (-200., -100., -170., 15.)\n",
    "    b = (0., 0., 11., 0.6)\n",
    "    ac = (x.new_tensor([-1.0, -10.0]),\n",
    "          x.new_tensor([-1.0, -10.0]),\n",
    "          x.new_tensor([-6.5, -6.5]),\n",
    "          x.new_tensor([0.7, 0.7]))\n",
    "\n",
    "    x0 = (x.new_tensor([ 1.0, 0.0]),\n",
    "          x.new_tensor([ 0.0, 0.5]),\n",
    "          x.new_tensor([-0.5, 1.5]),\n",
    "          x.new_tensor([-1.0, 1.0]))\n",
    "\n",
    "    U = 0\n",
    "    for i in range(4):\n",
    "        diff = x - x0[i]\n",
    "        U = U + A[i]*torch.exp(torch.sum(ac[i]*diff**2, -1) + b[i]*torch.prod(diff, -1))\n",
    "\n",
    "    U = alpha * U\n",
    "    return U"
   ]
  },
  {
   "cell_type": "code",
   "execution_count": 16,
   "metadata": {},
   "outputs": [],
   "source": [
    "def generate_grid(x1_min, x1_max, x2_min, x2_max, size = 100):\n",
    "    x1 = torch.linspace(x1_min, x1_max, size)\n",
    "    x2 = torch.linspace(x2_min, x2_max, size)\n",
    "    grid_x1, grid_x2 = torch.meshgrid(x1, x2)\n",
    "    grid = torch.stack([grid_x1, grid_x2], dim = -1)\n",
    "    x = grid.reshape((-1, 2))\n",
    "    return x"
   ]
  },
  {
   "cell_type": "code",
   "execution_count": 17,
   "metadata": {},
   "outputs": [],
   "source": [
    "alpha = 0.05\n",
    "x1_min, x1_max = -1.5, 1.0\n",
    "x2_min, x2_max = -0.5, 2.0"
   ]
  },
  {
   "cell_type": "code",
   "execution_count": 18,
   "metadata": {},
   "outputs": [
    {
     "data": {
      "image/png": "[encoded data removed]",
      "text/plain": [
       "<Figure size 432x288 with 2 Axes>"
      ]
     },
     "metadata": {
      "needs_background": "light"
     },
     "output_type": "display_data"
    }
   ],
   "source": [
    "x = generate_grid(x1_min, x1_max, x2_min, x2_max)\n",
    "fig, axes = plt.subplots()\n",
    "alpha = 0.05\n",
    "U = compute_Muller_potential(x, alpha)\n",
    "U = U.reshape(100, 100)\n",
    "U[U>15] = 15\n",
    "U = U.T\n",
    "plt.contourf(U, levels = 30, extent = (x1_min, x1_max, x2_min, x2_max), cmap = cm.viridis_r)\n",
    "plt.xlabel(r\"$x_1$\", fontsize = 24)\n",
    "plt.ylabel(r\"$x_2$\", fontsize = 24)\n",
    "plt.colorbar()\n",
    "plt.tight_layout()\n",
    "axes.set_aspect('equal')\n",
    "plt.tick_params(which='both', bottom=False, top=False, right = False, left = False, labelbottom=False, labelleft=False)\n",
    "#    plt.savefig(\"./output/true_muller_energy_alpha_{:.3f}.png\".format(alpha))\n",
    "#plt.savefig(\"./output/true_muller_energy_alpha_{:.3f}.eps\".format(alpha))"
   ]
  },
  {
   "cell_type": "code",
   "execution_count": 20,
   "metadata": {},
   "outputs": [
    {
     "name": "stdout",
     "output_type": "stream",
     "text": [
      "idx of steps: 99999\n",
      "idx of steps: 199999\n",
      "idx of steps: 299999\n",
      "idx of steps: 399999\n",
      "idx of steps: 499999\n"
     ]
    }
   ],
   "source": [
    "num_reps = 10\n",
    "alphas = torch.linspace(0.0, alpha, num_reps)\n",
    "\n",
    "num_steps = 510000\n",
    "x_record = []\n",
    "accept_rate = 0\n",
    "x = torch.stack((x1_min + torch.rand(num_reps)*(x1_max - x1_min),\n",
    "                 x2_min + torch.rand(num_reps)*(x2_max - x2_min)),\n",
    "                dim = -1)\n",
    "energy = compute_Muller_potential(x, 1.0)\n",
    "\n",
    "for k in range(num_steps):\n",
    "    if (k + 1) % 100000 == 0:\n",
    "        print(\"idx of steps: {}\".format(k))\n",
    "\n",
    "    ## sampling within each replica\n",
    "    delta_x = torch.normal(0, 1, size = (num_reps, 2))*0.3\n",
    "    x_p = x + delta_x\n",
    "    energy_p = compute_Muller_potential(x_p, 1.0)\n",
    "\n",
    "    ## accept based on energy\n",
    "    accept_prop = torch.exp(-alphas*(energy_p - energy))\n",
    "    accept_flag = torch.rand(num_reps) < accept_prop\n",
    "\n",
    "    ## considering the bounding effects\n",
    "    accept_flag = accept_flag & torch.all(x_p > x_p.new_tensor([x1_min, x2_min]), -1) \\\n",
    "                              & torch.all(x_p < x_p.new_tensor([x1_max, x2_max]), -1)\n",
    "\n",
    "    x_p[~accept_flag] = x[~accept_flag]\n",
    "    energy_p[~accept_flag] = energy[~accept_flag]\n",
    "    x = x_p\n",
    "    energy = energy_p\n",
    "\n",
    "    ## calculate overall accept rate\n",
    "    accept_rate = accept_rate + (accept_flag.float() - accept_rate)/(k+1)\n",
    "    \n",
    "    ## exchange\n",
    "    if k % 10 == 0:\n",
    "        for i in range(1, num_reps):\n",
    "            accept_prop = torch.exp((alphas[i] - alphas[i-1])*(energy[i] - energy[i-1]))\n",
    "            accept_flag = torch.rand(1) < accept_prop\n",
    "            if accept_flag.item():\n",
    "                tmp = x[i]\n",
    "                x[i] = x[i-1]\n",
    "                x[i-1] = tmp\n",
    "\n",
    "                tmp = energy[i]\n",
    "                energy[i] = energy[i-1]\n",
    "                energy[i-1] = tmp\n",
    "        if k >= 10000:\n",
    "            x_record.append(x.clone().numpy())\n",
    "            \n",
    "x_record = np.array(x_record)"
   ]
  },
  {
   "cell_type": "code",
   "execution_count": 21,
   "metadata": {},
   "outputs": [
    {
     "data": {
      "text/plain": [
       "(50000, 10, 2)"
      ]
     },
     "execution_count": 21,
     "metadata": {},
     "output_type": "execute_result"
    }
   ],
   "source": [
    "x_record.shape"
   ]
  },
  {
   "cell_type": "code",
   "execution_count": null,
   "metadata": {},
   "outputs": [],
   "source": []
  }
 ],
 "metadata": {
  "kernelspec": {
   "display_name": "Python [conda env:.conda-openmm_torch]",
   "language": "python",
   "name": "conda-env-.conda-openmm_torch-py"
  },
  "language_info": {
   "codemirror_mode": {
    "name": "ipython",
    "version": 3
   },
   "file_extension": ".py",
   "mimetype": "text/x-python",
   "name": "python",
   "nbconvert_exporter": "python",
   "pygments_lexer": "ipython3",
   "version": "3.8.10"
  },
  "latex_envs": {
   "LaTeX_envs_menu_present": true,
   "autoclose": false,
   "autocomplete": true,
   "bibliofile": "biblio.bib",
   "cite_by": "apalike",
   "current_citInitial": 1,
   "eqLabelWithNumbers": true,
   "eqNumInitial": 1,
   "hotkeys": {
    "equation": "Ctrl-E",
    "itemize": "Ctrl-I"
   },
   "labels_anchors": false,
   "latex_user_defs": false,
   "report_style_numbering": false,
   "user_envs_cfg": false
  },
  "toc": {
   "base_numbering": 1,
   "nav_menu": {},
   "number_sections": true,
   "sideBar": true,
   "skip_h1_title": false,
   "title_cell": "Table of Contents",
   "title_sidebar": "Contents",
   "toc_cell": false,
   "toc_position": {},
   "toc_section_display": true,
   "toc_window_display": false
  },
  "varInspector": {
   "cols": {
    "lenName": 16,
    "lenType": 16,
    "lenVar": 40
   },
   "kernels_config": {
    "python": {
     "delete_cmd_postfix": "",
     "delete_cmd_prefix": "del ",
     "library": "var_list.py",
     "varRefreshCmd": "print(var_dic_list())"
    },
    "r": {
     "delete_cmd_postfix": ") ",
     "delete_cmd_prefix": "rm(",
     "library": "var_list.r",
     "varRefreshCmd": "cat(var_dic_list()) "
    }
   },
   "types_to_exclude": [
    "module",
    "function",
    "builtin_function_or_method",
    "instance",
    "_Feature"
   ],
   "window_display": false
  }
 },
 "nbformat": 4,
 "nbformat_minor": 4
}
